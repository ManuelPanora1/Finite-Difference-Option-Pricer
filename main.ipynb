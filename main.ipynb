{
 "cells": [
  {
   "cell_type": "code",
   "execution_count": 214,
   "metadata": {},
   "outputs": [
    {
     "data": {
      "text/plain": [
       "<module 'test_implementation' from '/Users/manuelpanora/Python/Finite-Difference-Option-Pricer/test_implementation.py'>"
      ]
     },
     "execution_count": 214,
     "metadata": {},
     "output_type": "execute_result"
    }
   ],
   "source": [
    "import finite_differences.finite_diff_formulas as f\n",
    "import importlib as i\n",
    "import numpy as np\n",
    "import matplotlib.pyplot as plt\n",
    "import scipy.sparse as sp\n",
    "from scipy.sparse.linalg import spsolve\n",
    "i.reload(f)\n",
    "import test_fd_methods as t\n",
    "i.reload(t)\n",
    "import test_implementation as ti\n",
    "i.reload(ti)"
   ]
  },
  {
   "cell_type": "markdown",
   "metadata": {},
   "source": [
    "Goal: Price a European call option. It is currently worth $100 strike price is $95 and it expires in 21 days. The risk free interest rate is 5% and the volatility is .2.  "
   ]
  },
  {
   "cell_type": "code",
   "execution_count": 215,
   "metadata": {},
   "outputs": [
    {
     "name": "stdout",
     "output_type": "stream",
     "text": [
      "European Call Option Price BS: 5.898921658718436\n"
     ]
    }
   ],
   "source": [
    "TRADING_DAYS = 252\n",
    "K = 95\n",
    "S = 100\n",
    "sigma = .2\n",
    "r = .05\n",
    "tfinal = 21 / TRADING_DAYS          \n",
    "\n",
    "bs_price = f.black_scholes_call(S, K, tfinal, r, sigma)\n",
    "print(\"European Call Option Price BS:\", bs_price)"
   ]
  },
  {
   "cell_type": "markdown",
   "metadata": {},
   "source": [
    "This is the price computed given the initialized variables."
   ]
  },
  {
   "cell_type": "code",
   "execution_count": 216,
   "metadata": {},
   "outputs": [
    {
     "name": "stdout",
     "output_type": "stream",
     "text": [
      "European Call Option Price FD: 5.876594250948936\n"
     ]
    }
   ],
   "source": [
    "option = f.call_option(K)\n",
    "#n is timesteps, amount discretize time\n",
    "n = 16\n",
    "#m is pricesteps, amount discretize price\n",
    "m = 16\n",
    "price_fd = f.finite_difference_call(n, m, K, tfinal, S, sigma, r)\n",
    "print(\"European Call Option Price FD:\", price_fd)"
   ]
  },
  {
   "cell_type": "markdown",
   "metadata": {},
   "source": [
    "The results show that with just 4 timesteps and 4 pricesteps, we can get very close to the actual values. We should compute the error and see how we can reduce it.\n",
    "So far our results show that:\n",
    "European Call Option Price BS: 5.898921658718436\n",
    "European Call Option Price FD: 5.566651347113716\n",
    "\n",
    "With 8 timesteps and 8 pricesteps we get 3 digits of accuracy, sufficient for daily trades:\n",
    "European Call Option Price BS: 5.898921658718436\n",
    "European Call Option Price FD: 5.893540752387366\n",
    "\n",
    "For the next part, the crank nicolson method is implemented to price a European Call Option. We begin with the construction of the grid. First we will introduce the following substitutions: \\tau = Tfinal - t, x = ln(S)\n",
    "\n",
    "We introduce these substitutions so that we can transform the BS formula into the heat equation and then solve an ODE problem. We also want to work by moving forwawrd in time rather than backwards which is why we introduce \\tau.\n",
    "We get V(S,\\tau) = e^{-r\\tau}e^{ax+b\\tau}w(x,\\tau) and we solve the following equation: \\partial{V}/\\partial{\\tau} = \\sigma^2/2\\partial^2{V}/\\partial{x}^2\n",
    "To allow for the transformation we must introduce the constants a and b, defined below"
   ]
  },
  {
   "cell_type": "code",
   "execution_count": 217,
   "metadata": {},
   "outputs": [],
   "source": [
    "a = .5 - r/(sigma**2)\n",
    "b =  -(a * sigma) ** 2 / 2 - r * a"
   ]
  },
  {
   "cell_type": "markdown",
   "metadata": {},
   "source": [
    "To move forward with CN method, we must define the grid with the boundary conditions."
   ]
  },
  {
   "cell_type": "code",
   "execution_count": 218,
   "metadata": {},
   "outputs": [],
   "source": [
    "price_cn = f.price_derivative_cn(n, m, K, r, tfinal, a, b, S, sigma)"
   ]
  },
  {
   "cell_type": "markdown",
   "metadata": {},
   "source": [
    "We have completed the creation of the Crank Nicolson Implentation. It is compared to the previous methods in the following section:"
   ]
  },
  {
   "cell_type": "code",
   "execution_count": 219,
   "metadata": {},
   "outputs": [
    {
     "name": "stdout",
     "output_type": "stream",
     "text": [
      "When given 16 pricesteps and 16 timesteps:\n",
      "European Call Option Price BS: 5.898921658718436\n",
      "European Call Option Price FD: 5.876594250948936\n",
      "European Call Option Price CN: 4.64658489587504\n"
     ]
    }
   ],
   "source": [
    "print(\"When given\", m, \"pricesteps and\", n, \"timesteps:\")\n",
    "print(\"European Call Option Price BS:\", bs_price)\n",
    "print(\"European Call Option Price FD:\", price_fd)\n",
    "print(\"European Call Option Price CN:\", price_cn)"
   ]
  },
  {
   "cell_type": "markdown",
   "metadata": {},
   "source": [
    "From here, we are going to test and see which variable can be optimized best to see how we can improve it."
   ]
  },
  {
   "cell_type": "code",
   "execution_count": 220,
   "metadata": {},
   "outputs": [
    {
     "name": "stdout",
     "output_type": "stream",
     "text": [
      "8.939974858729533\n",
      "7.665218120566058\n",
      "5.513540914986314\n",
      "5.420673959363125\n",
      "5.402685267568507\n",
      "5.402230820988529\n",
      "8.939974664408169\n",
      "7.665215748657715\n",
      "5.513532377111029\n",
      "5.422342352919612\n",
      "5.4056227285358025\n",
      "5.405232969280241\n",
      "8.939974606831594\n",
      "7.665215046097496\n",
      "5.513529843204733\n",
      "5.422821020457848\n",
      "5.406261879175253\n",
      "5.405892581030524\n",
      "8.939974600169705\n",
      "7.665214964816263\n",
      "5.513529549902814\n",
      "5.422875968996582\n",
      "5.406333113320031\n",
      "5.40596396666049\n",
      "8.939974599670014\n",
      "7.665214958711927\n",
      "5.5135295278754395\n",
      "5.422880091963266\n",
      "5.406338457458617\n",
      "5.4059693230895745\n",
      "[[21.53603729  2.46301591  0.25580463  0.54932452  1.40406453  3.76092605]\n",
      " [21.58442458  2.37518069  0.3911387   0.43488538  1.50428362  4.15038677]\n",
      " [21.61661958  2.31670348  0.48008758  0.36409983  1.58099805  4.37771809]\n",
      " [21.62831435  2.29545488  0.51218522  0.33923568  1.6096759   4.45437638]\n",
      " [21.63157682  2.28952654  0.5211194   0.3323742   1.61773296  4.47522309]]\n",
      "[[3.0410532  1.76629646 0.38538074 0.4782477  0.49623639 0.49669084]\n",
      " [3.04105301 1.76629409 0.38538928 0.47657931 0.49329893 0.49368869]\n",
      " [3.04105295 1.76629339 0.38539182 0.47610064 0.49265978 0.49302908]\n",
      " [3.04105294 1.76629331 0.38539211 0.47604569 0.49258855 0.49295769]\n",
      " [3.04105294 1.7662933  0.38539213 0.47604157 0.4925832  0.49295234]]\n"
     ]
    }
   ],
   "source": [
    "cn_errors, fd_errors, cn_values = t.test_convergence_all(K, r, tfinal, a, b, S, sigma, (5,6))\n",
    "print(cn_errors)\n",
    "print(fd_errors)"
   ]
  },
  {
   "cell_type": "markdown",
   "metadata": {},
   "source": [
    "As the time steps increase, the error between the actual value and the computed value are pretty bad. "
   ]
  }
 ],
 "metadata": {
  "kernelspec": {
   "display_name": "finite",
   "language": "python",
   "name": "python3"
  },
  "language_info": {
   "codemirror_mode": {
    "name": "ipython",
    "version": 3
   },
   "file_extension": ".py",
   "mimetype": "text/x-python",
   "name": "python",
   "nbconvert_exporter": "python",
   "pygments_lexer": "ipython3",
   "version": "3.13.4"
  }
 },
 "nbformat": 4,
 "nbformat_minor": 2
}
